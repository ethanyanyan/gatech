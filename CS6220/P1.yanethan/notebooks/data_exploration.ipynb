{
 "cells": [
  {
   "cell_type": "code",
   "execution_count": 2,
   "metadata": {},
   "outputs": [
    {
     "name": "stdout",
     "output_type": "stream",
     "text": [
      "3.5.2\n"
     ]
    }
   ],
   "source": [
    "import os\n",
    "from pyspark.sql import SparkSession\n",
    "\n",
    "os.environ['SPARK_HOME'] = '/usr/local/spark'\n",
    "\n",
    "# Start Spark\n",
    "spark = SparkSession.builder.appName(\"Million Song Mining\").master(\"local[*]\").getOrCreate()\n",
    "\n",
    "# Check Spark version\n",
    "print(spark.version)"
   ]
  },
  {
   "cell_type": "code",
   "execution_count": 3,
   "metadata": {},
   "outputs": [
    {
     "name": "stderr",
     "output_type": "stream",
     "text": [
      "[Stage 1:>                                                          (0 + 8) / 8]\r"
     ]
    },
    {
     "name": "stdout",
     "output_type": "stream",
     "text": [
      "+--------------------+------------------+----------+\n",
      "|             user_id|           song_id|play_count|\n",
      "+--------------------+------------------+----------+\n",
      "|fd50c4007b68a3737...|SOBONKR12A58A7A7E0|         1|\n",
      "|fd50c4007b68a3737...|SOEGIYH12A6D4FC0E3|         1|\n",
      "|fd50c4007b68a3737...|SOFLJQZ12A6D4FADA6|         1|\n",
      "|fd50c4007b68a3737...|SOHTKMO12AB01843B0|         1|\n",
      "|fd50c4007b68a3737...|SODQZCY12A6D4F9D11|         1|\n",
      "+--------------------+------------------+----------+\n",
      "only showing top 5 rows\n",
      "\n"
     ]
    },
    {
     "name": "stderr",
     "output_type": "stream",
     "text": [
      "                                                                                \r"
     ]
    }
   ],
   "source": [
    "path_to_dataset = \"./../data/raw/kaggle_visible_evaluation_triplets.txt\"\n",
    "\n",
    "df = spark.read.csv(path_to_dataset, sep='\\t', inferSchema=True, header=False)\n",
    "\n",
    "df = df.withColumnRenamed(\"_c0\", \"user_id\").withColumnRenamed(\"_c1\", \"song_id\").withColumnRenamed(\"_c2\", \"play_count\")\n",
    "\n",
    "df.show(5)"
   ]
  },
  {
   "cell_type": "code",
   "execution_count": 4,
   "metadata": {},
   "outputs": [
    {
     "name": "stderr",
     "output_type": "stream",
     "text": [
      "[Stage 3:=======>                                                   (1 + 7) / 8]\r"
     ]
    },
    {
     "name": "stdout",
     "output_type": "stream",
     "text": [
      "+-------+--------------------+------------------+------------------+\n",
      "|summary|             user_id|           song_id|        play_count|\n",
      "+-------+--------------------+------------------+------------------+\n",
      "|  count|             1450933|           1450933|           1450933|\n",
      "|   mean|                NULL|              NULL|3.1871492343202616|\n",
      "| stddev|                NULL|              NULL| 7.051663619572663|\n",
      "|    min|00007a02388c208ea...|SOAAAFI12A6D4F9C66|                 1|\n",
      "|    max|ffff07d7d9bb187aa...|SOZZZWN12AF72A1E29|               923|\n",
      "+-------+--------------------+------------------+------------------+\n",
      "\n"
     ]
    },
    {
     "name": "stderr",
     "output_type": "stream",
     "text": [
      "                                                                                \r"
     ]
    }
   ],
   "source": [
    "df.describe().show()"
   ]
  },
  {
   "cell_type": "code",
   "execution_count": 6,
   "metadata": {},
   "outputs": [
    {
     "name": "stderr",
     "output_type": "stream",
     "text": [
      "                                                                                \r"
     ]
    }
   ],
   "source": [
    "# Get small subset of users\n",
    "subset_users = df.select('user_id').distinct().limit(1000)\n",
    "df_subset = df.join(subset_users, on='user_id', how='inner')\n",
    "\n",
    "subset_path = \"./../data/subsets/small_subset.csv\"\n",
    "df_subset.write.csv(subset_path, header=True)\n"
   ]
  },
  {
   "cell_type": "code",
   "execution_count": 7,
   "metadata": {},
   "outputs": [
    {
     "name": "stderr",
     "output_type": "stream",
     "text": [
      "                                                                                \r"
     ]
    },
    {
     "name": "stdout",
     "output_type": "stream",
     "text": [
      "+--------------------+------------------+----------+----------+----------+\n",
      "|             user_id|           song_id|play_count|user_index|song_index|\n",
      "+--------------------+------------------+----------+----------+----------+\n",
      "|0020258bdaf943abc...|SOHVNHU12A58A7C802|         5|     741.0|    3391.0|\n",
      "|0020258bdaf943abc...|SOLOZDT12A58A78374|         3|     741.0|    4352.0|\n",
      "|0020258bdaf943abc...|SOMMYNX12A58A7D9A6|         1|     741.0|     347.0|\n",
      "|0020258bdaf943abc...|SOQUARI12A67ADA92C|         2|     741.0|    1015.0|\n",
      "|0020258bdaf943abc...|SOTYJZR12A6D4F6A3E|         1|     741.0|    1119.0|\n",
      "+--------------------+------------------+----------+----------+----------+\n",
      "only showing top 5 rows\n",
      "\n"
     ]
    },
    {
     "name": "stderr",
     "output_type": "stream",
     "text": [
      "24/08/29 20:54:53 WARN InstanceBuilder: Failed to load implementation from:dev.ludovic.netlib.blas.JNIBLAS\n",
      "24/08/29 20:54:53 WARN InstanceBuilder: Failed to load implementation from:dev.ludovic.netlib.blas.VectorBLAS\n",
      "24/08/29 20:54:53 WARN InstanceBuilder: Failed to load implementation from:dev.ludovic.netlib.lapack.JNILAPACK\n",
      "                                                                                \r"
     ]
    },
    {
     "name": "stdout",
     "output_type": "stream",
     "text": [
      "+--------------------+------------------+----------+----------+----------+----------+\n",
      "|             user_id|           song_id|play_count|user_index|song_index|prediction|\n",
      "+--------------------+------------------+----------+----------+----------+----------+\n",
      "|0020258bdaf943abc...|SOMOKND12A8C137D89|         2|     646.0|    1297.0|-1.0173073|\n",
      "|005b1fab38cdeb9d5...|SOLUWYQ12A6D4FD0F8|         1|     647.0|    1237.0| -1.438634|\n",
      "|0083526744e75be75...|SOHEMBR12B0B8075DF|         3|     447.0|     821.0|0.54257476|\n",
      "|0083526744e75be75...|SOKRFOK12A67020A02|         5|     447.0|    1136.0|-0.1741548|\n",
      "|0107197bd5e2521cf...|SOGZJZU12AF72A0D45|         1|     270.0|     809.0|-1.2573574|\n",
      "+--------------------+------------------+----------+----------+----------+----------+\n",
      "only showing top 5 rows\n",
      "\n"
     ]
    },
    {
     "name": "stderr",
     "output_type": "stream",
     "text": [
      "                                                                                \r"
     ]
    },
    {
     "name": "stdout",
     "output_type": "stream",
     "text": [
      "Root-mean-square error: 8.788313909700209\n"
     ]
    }
   ],
   "source": [
    "from pyspark.ml.recommendation import ALS\n",
    "from pyspark.ml.evaluation import RegressionEvaluator\n",
    "from pyspark.ml.feature import StringIndexer\n",
    "from pyspark.ml import Pipeline\n",
    "\n",
    "# Split into train, test sets (80, 20)\n",
    "train_data, test_data = df_subset.randomSplit([0.8, 0.2])\n",
    "\n",
    "# Initialize StringIndexers for user_id and song_id since they are both string type and need to be in int type later on\n",
    "user_indexer = StringIndexer(inputCol=\"user_id\", outputCol=\"user_index\")\n",
    "song_indexer = StringIndexer(inputCol=\"song_id\", outputCol=\"song_index\")\n",
    "\n",
    "pipeline = Pipeline(stages=[user_indexer, song_indexer])\n",
    "train_data = pipeline.fit(train_data).transform(train_data)\n",
    "test_data = pipeline.fit(test_data).transform(test_data)\n",
    "train_data.show(5)\n",
    "\n",
    "als = ALS(userCol=\"user_index\", itemCol=\"song_index\", ratingCol=\"play_count\", coldStartStrategy=\"drop\")\n",
    "\n",
    "model = als.fit(train_data)\n",
    "predictions = model.transform(test_data)\n",
    "predictions.show(5)\n",
    "\n",
    "evaluator = RegressionEvaluator(metricName=\"rmse\", labelCol=\"play_count\", predictionCol=\"prediction\")\n",
    "rmse = evaluator.evaluate(predictions)\n",
    "print(f\"Root-mean-square error: {rmse}\")"
   ]
  }
 ],
 "metadata": {
  "kernelspec": {
   "display_name": "env",
   "language": "python",
   "name": "python3"
  },
  "language_info": {
   "codemirror_mode": {
    "name": "ipython",
    "version": 3
   },
   "file_extension": ".py",
   "mimetype": "text/x-python",
   "name": "python",
   "nbconvert_exporter": "python",
   "pygments_lexer": "ipython3",
   "version": "3.12.4"
  }
 },
 "nbformat": 4,
 "nbformat_minor": 2
}
